{
 "cells": [
  {
   "cell_type": "code",
   "execution_count": 1,
   "metadata": {},
   "outputs": [],
   "source": [
    "import numpy as np\n",
    "import pandas as pd"
   ]
  },
  {
   "cell_type": "code",
   "execution_count": 4,
   "metadata": {},
   "outputs": [],
   "source": [
    "definite=pd.read_csv(\"./my_csv.csv\")"
   ]
  },
  {
   "cell_type": "code",
   "execution_count": 5,
   "metadata": {},
   "outputs": [
    {
     "name": "stdout",
     "output_type": "stream",
     "text": [
      "전체 확진자 수: 87 \n",
      "2주 이내 확진자 수: 23 \n",
      "2주 이상 확진자 수: 62 \n",
      "확인중인 확진자 수: 2\n",
      "['부산-87', '부산-86', '부산-85', '부산-84', '부산-83', '부산-82', '부산-81', '부산-80', '부산-75', '부산-74', '부산-73', '부산-71', '부산-70', '부산-68', '부산-67', '부산-65', '부산-64', '부산-63', '부산-62', '부산-60', '부산-51', '부산-42', '부산-35']\n",
      "['부산-79', '부산-78', '부산-77', '부산-76', '부산-72', '부산-69', '부산-66', '부산-61', '부산-59', '부산-58', '부산-57', '부산-56', '부산-55', '부산-54', '부산-53', '부산-52', '부산-50', '부산-49', '부산-48', '부산-47', '부산-46', '부산-45', '부산-44', '부산-43', '부산-41', '부산-40', '부산-39', '부산-38', '부산-37', '부산-36', '부산-34', '부산-33', '부산-32', '부산-31', '부산-30', '부산-29', '부산-28', '부산-27', '부산-26', '부산-25', '부산-24', '부산-23', '부산-22', '부산-21', '부산-20', '부산-19', '부산-18', '부산-17', '부산-16', '부산-15', '부산-14', '부산-13', '부산-12', '부산-11', '부산-10', '부산-9', '부산-8', '부산-6', '부산-5', '부산-4', '부산-3', '부산-2']\n",
      "['부산-88', '부산-7']\n"
     ]
    }
   ],
   "source": [
    "#### 오늘 ~ 2주 기준으로 확진자를 나누는 코드 ###\n",
    "from datetime import datetime, timedelta\n",
    "\n",
    "tmpdict = dict()               # 날짜를 담는 그릇\n",
    "today = datetime.today()       # 오늘 날짜\n",
    "listNo = definite.No.unique()  # 전체 확진자 \n",
    "for i in listNo:\n",
    "  tmp = definite[definite.No==i].iloc[0]\n",
    "  if tmp.SDate == '확인중':\n",
    "    daym = 0\n",
    "    tmpdict[i] = daym\n",
    "  else:\n",
    "    sday = datetime.strptime(f'2020-{tmp.SMonth}-{tmp.SDate}', '%Y-%m-%d')\n",
    "    daym = (today - sday).days\n",
    "    tmpdict[i] = daym\n",
    "in2week = [ i for i, j in tmpdict.items() if j > 0 and j < 14 ]   # 2주 이내 확진자 리스트\n",
    "in2weekUpper = [ i for i, j in tmpdict.items() if j >= 14 ]       # 2주 지난 확진자 리스트\n",
    "in2weekCheck = [ i for i, j in tmpdict.items() if j == 0 ]        # 확인중인 확진자 리스트\n",
    "\n",
    "# for \n",
    "print( \"전체 확진자 수:\", len(tmpdict), \"\\n2주 이내 확진자 수:\", len(in2week), \"\\n2주 이상 확진자 수:\", len(in2weekUpper), \"\\n확인중인 확진자 수:\", len(in2weekCheck) )\n",
    "print( in2week )          # 2주 이내 목록 확인\n",
    "print( in2weekUpper )     # 2주 이상 목록 확인\n",
    "print( in2weekCheck )     # 확인 중 목록 확인 "
   ]
  },
  {
   "cell_type": "code",
   "execution_count": 7,
   "metadata": {},
   "outputs": [],
   "source": [
    "from bs4 import BeautifulSoup\n",
    "import urllib.request as req\n",
    "target_url = 'http://www.busan.go.kr/corona19/index'\n",
    "res=req.urlopen(target_url)\n",
    "# 파싱 > 구글에 bs4검색해서 컨트롤+f 해서 parser검색해서 종류 뭐뭐 있는지 본다\n",
    "soup=BeautifulSoup(res,'html5lib')"
   ]
  },
  {
   "cell_type": "code",
   "execution_count": 19,
   "metadata": {},
   "outputs": [
    {
     "data": {
      "text/plain": [
       "88"
      ]
     },
     "execution_count": 19,
     "metadata": {},
     "output_type": "execute_result"
    }
   ],
   "source": [
    "totalPatient = int(soup.select_one('#header div.main_banner span.item2').text[:-1])"
   ]
  },
  {
   "cell_type": "code",
   "execution_count": null,
   "metadata": {},
   "outputs": [],
   "source": []
  }
 ],
 "metadata": {
  "kernelspec": {
   "display_name": "Python 3",
   "language": "python",
   "name": "python3"
  },
  "language_info": {
   "codemirror_mode": {
    "name": "ipython",
    "version": 3
   },
   "file_extension": ".py",
   "mimetype": "text/x-python",
   "name": "python",
   "nbconvert_exporter": "python",
   "pygments_lexer": "ipython3",
   "version": "3.7.4"
  }
 },
 "nbformat": 4,
 "nbformat_minor": 2
}
